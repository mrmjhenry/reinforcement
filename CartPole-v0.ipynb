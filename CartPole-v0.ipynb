{
 "cells": [
  {
   "cell_type": "markdown",
   "metadata": {},
   "source": [
    "## Deep Q Learning \n",
    "### http://pytorch.org/tutorials/intermediate/reinforcement_q_learning.html\n",
    "Deep Q Learning agent learning on the CartPole-v0 problem, where you train a model to balance a pole on a cart that can move left to right\n",
    "\n",
    "The model will examine the state of the system (direction the cart is moving, the angle of the pole wrt the cart, etc...) and will determine which direction to move the cart in order to balance the pole.\n",
    "\n",
    "The typical inputs to the model would be the environmental conditions, but we can do this based on the images of the system only (render the scence, examine the scene, update what the cart should do)."
   ]
  },
  {
   "cell_type": "code",
   "execution_count": 2,
   "metadata": {},
   "outputs": [],
   "source": [
    "# imports\n",
    "import gym\n",
    "import math\n",
    "import random\n",
    "\n",
    "from collections import namedtuple\n",
    "from itertools import count\n",
    "from copy import deepcopy\n",
    "from PIL import Image\n",
    "\n",
    "import matplotlib\n",
    "import matplotlib.pyplot as plt\n",
    "\n",
    "import numpy as np\n",
    "\n",
    "import torch\n",
    "import torch.nn as nn\n",
    "import torch.optim as optim\n",
    "import torch.nn.functional as F\n",
    "from torch.autograd import Variable\n",
    "\n",
    "import torchvision.transforms as T"
   ]
  },
  {
   "cell_type": "code",
   "execution_count": 3,
   "metadata": {},
   "outputs": [
    {
     "name": "stdout",
     "output_type": "stream",
     "text": [
      "\u001b[33mWARN: gym.spaces.Box autodetected dtype as <class 'numpy.float32'>. Please provide explicit dtype.\u001b[0m\n"
     ]
    }
   ],
   "source": [
    "# set things up\n",
    "\n",
    "# OpenAI gym\n",
    "env = gym.make('CartPole-v0').unwrapped\n",
    "\n",
    "# matlplotlib for jupyter\n",
    "is_ipython = 'inline' in matplotlib.get_backend()\n",
    "if is_ipython:\n",
    "    from IPython import display\n",
    "plt.ion()\n",
    "\n",
    "# alias some pytorch stuff if we're using a gpu\n",
    "use_cuda = torch.cuda.is_available()\n",
    "FloatTensor = torch.cuda.FloatTensor if use_cuda else torch.FloatTensor\n",
    "LongTensor = torch.cuda.LongTensor if use_cuda else torch.LongTensor\n",
    "ByteTensor = torch.cuda.ByteTensor if use_cuda else torch.ByteTensor\n",
    "Tensor = FloatTensor"
   ]
  },
  {
   "cell_type": "code",
   "execution_count": 9,
   "metadata": {},
   "outputs": [],
   "source": [
    "# using experience replay memory to store the transitions \n",
    "# in data that the model observes. \n",
    "#\n",
    "# we reuse this data randomly at later iterations to decorrelated \n",
    "# the batch of transitions, which makes training more stable\n",
    "# in other words, if we sampled sequentially in time, the model \n",
    "# may learn sequential relationships, which severely hurts the \n",
    "# model's ability to generalize\n",
    "#\n",
    "# we'll hold this information in two structures:\n",
    "#     Transition: \n",
    "#         holds informations regarding a transition in state\n",
    "#     ReplayMemory:\n",
    "#         a cyclic buffer of fixed size that holds the most \n",
    "#         recent transitions \n",
    "\n",
    "Transition = namedtuple('Transition', ('state','action','next_state','reward'))\n",
    "\n",
    "class ReplayMemory(object):\n",
    "    def __init__(self, capacity):\n",
    "        self.capacity = capacity\n",
    "        self.memory = []\n",
    "        self.position = 0\n",
    "    \n",
    "    def push(self, *args):\n",
    "        \"\"\"Saves a transition\"\"\"\n",
    "        if len(self.memory) < self.capacity:\n",
    "            self.memory.append(None)\n",
    "        self.memory[self.position] = Transition(*args)\n",
    "        self.position = (self.position+1) % self.capacity\n",
    "        \n",
    "    def sample(self, batch_size):\n",
    "        \"\"\"Randomly samples a batch from memory\"\"\"\n",
    "        return random.sample(self.memory, batch_size)\n",
    "    \n",
    "    def __len__(self):\n",
    "        return len(self.memory)"
   ]
  },
  {
   "cell_type": "code",
   "execution_count": null,
   "metadata": {},
   "outputs": [],
   "source": []
  }
 ],
 "metadata": {
  "kernelspec": {
   "display_name": "Python 3",
   "language": "python",
   "name": "python3"
  },
  "language_info": {
   "codemirror_mode": {
    "name": "ipython",
    "version": 3
   },
   "file_extension": ".py",
   "mimetype": "text/x-python",
   "name": "python",
   "nbconvert_exporter": "python",
   "pygments_lexer": "ipython3",
   "version": "3.6.4"
  }
 },
 "nbformat": 4,
 "nbformat_minor": 2
}
